{
 "cells": [
  {
   "cell_type": "code",
   "execution_count": 9,
   "metadata": {
    "collapsed": true
   },
   "outputs": [],
   "source": [
    "import pandas as pd\n",
    "from pandas.io import gbq\n",
    "\n",
    "pd.set_option('display.max_column',40)"
   ]
  },
  {
   "cell_type": "code",
   "execution_count": 10,
   "metadata": {
    "collapsed": true
   },
   "outputs": [],
   "source": [
    "PROJECT_ID='your_project_id'\n",
    "train_tables = [\"train_activity\", \"train_guild\", \"train_label\", \"train_party\", \"train_payment\", \"train_trade\"]\n",
    "test_tables = [\"test_activity\", \"test_guild\", \"test_party\", \"test_payment\", \"test_trade\"]"
   ]
  },
  {
   "cell_type": "code",
   "execution_count": 11,
   "metadata": {
    "collapsed": true
   },
   "outputs": [],
   "source": [
    "def query_from_bigquery(query):\n",
    "    df = gbq.read_gbq(query = query, project_id=PROJECT_ID, dialect='standard', \n",
    "                      verbose=False, configuration = {'query': {'useQueryCache': True}})\n",
    "    return df"
   ]
  },
  {
   "cell_type": "markdown",
   "metadata": {},
   "source": [
    "## Feature Engineering\n",
    "### 가설\n",
    "- 1) 결제한 유저들은 게임을 더 오래할 것이다\n",
    "    - 생성 feature : payment_cnt, payment_total\n",
    "- 2) 문파에 가입한 유저들은 게임을 더 오래할 것이다(단, 길드의 멤버수도 영향을 끼칠 것이다)\n",
    "    - 생성 feature : guild_tf, guild_member_cnt\n",
    "    - guild는 9963개.. 우선은 guild 가입 유무 변수만 추가\n",
    "- 3) 접속하는 빈도를 통해 속도를 측정할 수 있을 것이다(소수점 둘째자리에서 round)\n",
    "    - 생성 feature : login_speed : sum(cnt_dt)/count(wk)\\*7, last_week : max(wk)\n",
    "    - 1주차 7일, 2주차 7일, 3주차 7일 => feature 1. 접속 속도 1, max(접속주차) => feature2. 마지막 주차\n",
    "    - 1주차 7일, 2주차 5일 = 12/14 = 0.85\n",
    "    - 1주차 7일, 3주차 3일 = 10/21 = 0.47\n",
    "    - sum(cnt_dt)/count(wk)\\*7\n",
    "- 4) Baseline에는 activity에서 다음만 사용 : wk, cnt_dt, play_time, normal_chat, cnt_use_buffitem"
   ]
  },
  {
   "cell_type": "markdown",
   "metadata": {},
   "source": [
    "### 각 가설 추출하는 쿼리\n",
    "- 결제한 유저들은 게임을 더 오래할 것이다"
   ]
  },
  {
   "cell_type": "code",
   "execution_count": 16,
   "metadata": {
    "collapsed": false
   },
   "outputs": [
    {
     "name": "stdout",
     "output_type": "stream",
     "text": [
      "CPU times: user 2.24 s, sys: 83.9 ms, total: 2.33 s\n",
      "Wall time: 9.67 s\n"
     ]
    }
   ],
   "source": [
    "%%time\n",
    "query = '''\n",
    "        select acc_id, count(acc_id) as payment_cnt, sum(payment_amount) as payment_total\n",
    "        from `nc_new.train_payment` \n",
    "        group by acc_id\n",
    "        '''\n",
    "\n",
    "payment_df = query_from_bigquery(query)\n",
    "payment_df"
   ]
  },
  {
   "cell_type": "markdown",
   "metadata": {},
   "source": [
    "- 문파에 가입한 유저들은 게임을 더 오래할 것이다(단, 길드의 멤버수도 영향을 끼칠 것이다)"
   ]
  },
  {
   "cell_type": "code",
   "execution_count": 17,
   "metadata": {
    "collapsed": false
   },
   "outputs": [
    {
     "name": "stdout",
     "output_type": "stream",
     "text": [
      "CPU times: user 1.18 s, sys: 24.4 ms, total: 1.2 s\n",
      "Wall time: 5.79 s\n"
     ]
    }
   ],
   "source": [
    "%%time\n",
    "query = '''\n",
    "        select guild_member, \"True\" as guild_tf, guild_member_cnt\n",
    "        from(\n",
    "        select string_field_0 as guild, guild_member, array_length(split(string_field_1)) as guild_member_cnt\n",
    "        from `nc_new.train_guild`, UNNEST(split(string_field_1)) as guild_member\n",
    "        )\n",
    "'''\n",
    "\n",
    "guild_df = query_from_bigquery(query)\n",
    "guild_df"
   ]
  },
  {
   "cell_type": "markdown",
   "metadata": {},
   "source": [
    "- 3) 접속하는 빈도를 통해 속도를 측정할 수 있을 것이다 \n",
    "    - 생성 feature : login_speed : sum(cnt_dt)/count(wk)\\*7, last_week : max(wk)\n",
    "- 4) wk, cnt_dt, play_time, normal_chat, cnt_use_buffitem\n",
    "    - 소수점 모두 2자리에서 round"
   ]
  },
  {
   "cell_type": "code",
   "execution_count": null,
   "metadata": {
    "collapsed": true
   },
   "outputs": [],
   "source": [
    "query = '''\n",
    "        select acc_id, ROUND(sum(cnt_dt)/(count(wk)*7), 2) as login_speed, max(wk) as last_week,\n",
    "        count(wk) as wk_cnt, sum(cnt_dt) total_dt, sum(play_time) as total_play_time, sum(normal_chat) as total_normal_chat, MAX(cnt_use_buffitem) as use_buffitem\n",
    "        from `nc_new.train_activity` \n",
    "        group by acc_id\n",
    "        '''"
   ]
  },
  {
   "cell_type": "markdown",
   "metadata": {},
   "source": [
    "## Join Query"
   ]
  },
  {
   "cell_type": "code",
   "execution_count": 46,
   "metadata": {
    "collapsed": true
   },
   "outputs": [],
   "source": [
    "query = '''\n",
    "        select a.acc_id, a.login_speed, a.last_week, a.wk_cnt, a.total_dt, a.total_play_time, a.total_normal_chat, a.use_buffitem,\n",
    "              b.label, c.payment_cnt, c.payment_total, max(d.guild_tf) as guild_tf, max(d.guild_member_cnt) as guild_member_cnt\n",
    "        from \n",
    "          (select acc_id, ROUND(sum(cnt_dt)/(count(wk)*7), 2) as login_speed, max(wk) as last_week, count(wk) as wk_cnt, \n",
    "          sum(cnt_dt) total_dt, sum(play_time) as total_play_time, sum(normal_chat) as total_normal_chat, MAX(cnt_use_buffitem) as use_buffitem\n",
    "          from `nc_new.train_activity` \n",
    "          group by acc_id) as a\n",
    "        left join \n",
    "          (select string_field_0 as id, string_field_1 as label from `nc_new.train_label`) as b on a.acc_id = b.id\n",
    "        left join \n",
    "          (select acc_id, count(acc_id) as payment_cnt, sum(payment_amount) as payment_total from `nc_new.train_payment`  group by acc_id) as c USING(acc_id)\n",
    "        left join \n",
    "          (select guild_member, 1 as guild_tf, guild_member_cnt \n",
    "          from\n",
    "            (select string_field_0 as guild, guild_member, array_length(split(string_field_1)) as guild_member_cnt\n",
    "              from `nc_new.train_guild`, UNNEST(split(string_field_1)) as guild_member)) as d on a.acc_id = d.guild_member\n",
    "        group by 1, 2, 3, 4, 5, 6, 7, 8, 9, 10, 11\n",
    "        '''"
   ]
  },
  {
   "cell_type": "code",
   "execution_count": 47,
   "metadata": {
    "collapsed": false
   },
   "outputs": [
    {
     "name": "stdout",
     "output_type": "stream",
     "text": [
      "CPU times: user 5.59 s, sys: 281 ms, total: 5.87 s\n",
      "Wall time: 21.6 s\n"
     ]
    }
   ],
   "source": [
    "%%time\n",
    "train_df = query_from_bigquery(query)\n",
    "train_df"
   ]
  },
  {
   "cell_type": "code",
   "execution_count": 77,
   "metadata": {
    "collapsed": false
   },
   "outputs": [],
   "source": [
    "train_df.head()"
   ]
  },
  {
   "cell_type": "code",
   "execution_count": 49,
   "metadata": {
    "collapsed": false
   },
   "outputs": [
    {
     "data": {
      "text/plain": [
       "2month      25000\n",
       "month       25000\n",
       "retained    25000\n",
       "week        25000\n",
       "Name: label, dtype: int64"
      ]
     },
     "execution_count": 49,
     "metadata": {},
     "output_type": "execute_result"
    }
   ],
   "source": [
    "train_df['label'].value_counts()"
   ]
  },
  {
   "cell_type": "code",
   "execution_count": 50,
   "metadata": {
    "collapsed": false
   },
   "outputs": [
    {
     "data": {
      "text/plain": [
       "<matplotlib.axes._subplots.AxesSubplot at 0x7fd85d709cc0>"
      ]
     },
     "execution_count": 50,
     "metadata": {},
     "output_type": "execute_result"
    },
    {
     "name": "stderr",
     "output_type": "stream",
     "text": [
      "/usr/local/envs/py3env/lib/python3.5/site-packages/matplotlib/font_manager.py:1320: UserWarning: findfont: Font family ['sans-serif'] not found. Falling back to DejaVu Sans\n",
      "  (prop.get_family(), self.defaultFamily[fontext]))\n"
     ]
    },
    {
     "data": {
      "image/png": "[encoded data removed]",
      "text/plain": [
       "<matplotlib.figure.Figure at 0x7fd85d709240>"
      ]
     },
     "metadata": {},
     "output_type": "display_data"
    }
   ],
   "source": [
    "train_df['login_speed'].value_counts().plot(kind='bar', rot=0, figsize=(18,10))"
   ]
  },
  {
   "cell_type": "code",
   "execution_count": 72,
   "metadata": {
    "collapsed": false
   },
   "outputs": [],
   "source": [
    "train_df['guild_tf'].value_counts()"
   ]
  },
  {
   "cell_type": "code",
   "execution_count": 73,
   "metadata": {
    "collapsed": false
   },
   "outputs": [],
   "source": [
    "train_df['guild_member_cnt'].value_counts().head()"
   ]
  },
  {
   "cell_type": "code",
   "execution_count": 59,
   "metadata": {
    "collapsed": false
   },
   "outputs": [],
   "source": [
    "train_df.fillna(value=0, inplace=True)"
   ]
  },
  {
   "cell_type": "code",
   "execution_count": 74,
   "metadata": {
    "collapsed": false
   },
   "outputs": [],
   "source": [
    "train_df['guild_tf'].value_counts()"
   ]
  },
  {
   "cell_type": "code",
   "execution_count": 75,
   "metadata": {
    "collapsed": false
   },
   "outputs": [],
   "source": [
    "train_df.head()"
   ]
  },
  {
   "cell_type": "code",
   "execution_count": 64,
   "metadata": {
    "collapsed": true
   },
   "outputs": [],
   "source": [
    "train_df.to_csv(\"train.csv\")"
   ]
  },
  {
   "cell_type": "markdown",
   "metadata": {},
   "source": [
    "# Test DF 부분"
   ]
  },
  {
   "cell_type": "code",
   "execution_count": 65,
   "metadata": {
    "collapsed": true
   },
   "outputs": [],
   "source": [
    "test_query = '''\n",
    "        select a.acc_id, a.login_speed, a.last_week, a.wk_cnt, a.total_dt, a.total_play_time, a.total_normal_chat, a.use_buffitem,\n",
    "            c.payment_cnt, c.payment_total, max(d.guild_tf) as guild_tf, max(d.guild_member_cnt) as guild_member_cnt\n",
    "        from \n",
    "          (select acc_id, ROUND(sum(cnt_dt)/(count(wk)*7), 2) as login_speed, max(wk) as last_week, count(wk) as wk_cnt, \n",
    "          sum(cnt_dt) total_dt, sum(play_time) as total_play_time, sum(normal_chat) as total_normal_chat, MAX(cnt_use_buffitem) as use_buffitem\n",
    "          from `nc_new.test_activity` \n",
    "          group by acc_id) as a\n",
    "        left join \n",
    "          (select acc_id, count(acc_id) as payment_cnt, sum(payment_amount) as payment_total from `nc_new.test_payment`  group by acc_id) as c USING(acc_id)\n",
    "        left join \n",
    "          (select guild_member, 1 as guild_tf, guild_member_cnt \n",
    "          from\n",
    "            (select string_field_0 as guild, guild_member, array_length(split(string_field_1)) as guild_member_cnt\n",
    "              from `nc_new.test_guild`, UNNEST(split(string_field_1)) as guild_member)) as d on a.acc_id = d.guild_member\n",
    "        group by 1, 2, 3, 4, 5, 6, 7, 8, 9, 10\n",
    "        '''"
   ]
  },
  {
   "cell_type": "code",
   "execution_count": 66,
   "metadata": {
    "collapsed": false
   },
   "outputs": [
    {
     "name": "stdout",
     "output_type": "stream",
     "text": [
      "CPU times: user 2.24 s, sys: 17.4 ms, total: 2.25 s\n",
      "Wall time: 9.1 s\n"
     ]
    }
   ],
   "source": [
    "%%time\n",
    "test_df = query_from_bigquery(test_query)"
   ]
  },
  {
   "cell_type": "code",
   "execution_count": 67,
   "metadata": {
    "collapsed": true
   },
   "outputs": [],
   "source": [
    "test_df.fillna(value=0, inplace=True)"
   ]
  },
  {
   "cell_type": "code",
   "execution_count": 76,
   "metadata": {
    "collapsed": false
   },
   "outputs": [],
   "source": [
    "test_df.tail()"
   ]
  },
  {
   "cell_type": "code",
   "execution_count": 71,
   "metadata": {
    "collapsed": false
   },
   "outputs": [],
   "source": [
    "test_df.to_csv(\"test.csv\")"
   ]
  },
  {
   "cell_type": "code",
   "execution_count": null,
   "metadata": {
    "collapsed": true
   },
   "outputs": [],
   "source": []
  }
 ],
 "metadata": {
  "kernelspec": {
   "display_name": "Python 3",
   "language": "python",
   "name": "python3"
  },
  "language_info": {
   "codemirror_mode": {
    "name": "ipython",
    "version": 3
   },
   "file_extension": ".py",
   "mimetype": "text/x-python",
   "name": "python",
   "nbconvert_exporter": "python",
   "pygments_lexer": "ipython3",
   "version": "3.5.5"
  }
 },
 "nbformat": 4,
 "nbformat_minor": 2
}
